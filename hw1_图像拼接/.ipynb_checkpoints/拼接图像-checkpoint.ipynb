{
 "cells": [
  {
   "cell_type": "markdown",
   "id": "073d1c5e",
   "metadata": {},
   "source": [
    "## 导入所需工作包"
   ]
  },
  {
   "cell_type": "code",
   "execution_count": 2,
   "id": "a7a9b255",
   "metadata": {},
   "outputs": [],
   "source": [
    "import cv2\n",
    "import numpy as np"
   ]
  },
  {
   "cell_type": "markdown",
   "id": "0ede264f",
   "metadata": {},
   "source": [
    "# 计算特征点相关\n",
    "## 获取特征点"
   ]
  },
  {
   "cell_type": "code",
   "execution_count": 3,
   "id": "9b49899b",
   "metadata": {},
   "outputs": [],
   "source": [
    "# 分别获取两张图片的特征点\n",
    "def obtain_SIFT_key_points(img1, img2):\n",
    "    sift = cv2.SIFT_create()\n",
    "    # 转换为灰度图像减少计算量\n",
    "    g_img1 = cv2.cvtColor(img1, cv2.COLOR_BGR2GRAY)\n",
    "    g_img2 = cv2.cvtColor(img2, cv2.COLOR_BGR2GRAY)\n",
    "    kp1, kp2 = {}, {}\n",
    "    # 检测特征\n",
    "    kp1['kp'], kp1['des'] = sift.detectAndCompute(g_img1, None)\n",
    "    kp2['kp'], kp2['des'] = sift.detectAndCompute(g_img2, None)\n",
    "    return kp1, kp2"
   ]
  },
  {
   "cell_type": "markdown",
   "id": "e7ffc904",
   "metadata": {},
   "source": [
    "## 计算单应矩阵"
   ]
  },
  {
   "cell_type": "code",
   "execution_count": 4,
   "id": "59b10412",
   "metadata": {},
   "outputs": [],
   "source": [
    "def obtain_homo_matrix(kp1, kp2):\n",
    "    brute = cv2.BFMatcher()\n",
    "    # 使用knn匹配相似点，但此时的匹配不够鲁棒，需要获取较好的匹配\n",
    "    matches = brute.knnMatch(kp1['des'], kp2['des'], k=2)\n",
    "    good_matches = []\n",
    "    \n",
    "    # 获取鲁棒匹配\n",
    "    for i, (m, n) in enumerate(matches):\n",
    "        # 若knn距离小于0.7，则为鲁棒匹配\n",
    "        if m.distance < 0.7 * n.distance:\n",
    "            good_matches.append((m.trainIdx, m.queryIdx))\n",
    "    \n",
    "    # 若鲁棒匹配多余4，则为有效匹配\n",
    "    if len(good_matches) > 4:\n",
    "        key_points1 = kp1['kp']\n",
    "        key_points2 = kp2['kp']\n",
    "\n",
    "        matched_kp1 = np.float32([key_points1[i].pt for (_, i) in good_matches])\n",
    "\n",
    "        matched_kp2 = np.float32([key_points2[i].pt for (i, _) in good_matches])\n",
    "\n",
    "        # 使用RANSAC方法计算单应矩阵，即图片匹配所需要的旋转拉伸操作\n",
    "        homography_matrix, _ = cv2.findHomography(matched_kp1, matched_kp2, cv2.RANSAC, 4)\n",
    "        return homography_matrix\n",
    "    else:\n",
    "        return None"
   ]
  },
  {
   "cell_type": "markdown",
   "id": "bbe47193",
   "metadata": {},
   "source": [
    "# 根据单应矩阵对图像进行变换操作"
   ]
  },
  {
   "cell_type": "code",
   "execution_count": 5,
   "id": "647e6bfe",
   "metadata": {},
   "outputs": [],
   "source": [
    "def transform_operation(img1, img2, homo_matrix):\n",
    "    h1, w1 = img1.shape[0], img1.shape[1]\n",
    "    h2, w2 = img2.shape[0], img2.shape[1]\n",
    "    # 根据大小分别为两张图片定义两个矩阵的顶点\n",
    "    rect1 = np.array([[0, 0], [0, h1], [w1, h1], [w1, 0]], dtype=np.float32).reshape((4, 1, 2))\n",
    "    rect2 = np.array([[0, 0], [0, h2], [w2, h2], [w2, 0]], dtype=np.float32).reshape((4, 1, 2))\n",
    "    # 对rect1应用单应矩阵透视变换\n",
    "    img1_trans_rect1 = cv2.perspectiveTransform(rect1, homo_matrix)\n",
    "    # 将图像2和单应矩阵变换后的图像1沿垂直方向连接起来，得到两个图像合并后的总外接矩形\n",
    "    total_rect = np.concatenate((rect2, img1_trans_rect1), axis=0)\n",
    "    # 获取总外接矩形的左上角和右下角的坐标，以确定输出的大小\n",
    "    min_x, min_y = np.int32(total_rect.min(axis=0).ravel())\n",
    "    max_x, max_y = np.int32(total_rect.max(axis=0).ravel())\n",
    "    \n",
    "    shift_matrix = np.array([[1, 0, -min_x], [0, 1, -min_y], [0, 0, 1]])\n",
    "    # 接下来为填充操作\n",
    "    trans_img1 = cv2.warpPerspective(img1, shift_matrix.dot(homo_matrix),\n",
    "                                     (max_x - min_x, max_y - min_y))\n",
    "    \n",
    "    trans_img1[-min_y:h2 - min_y, -min_x:w2 - min_x] = img2\n",
    "    return trans_img1"
   ]
  },
  {
   "cell_type": "markdown",
   "id": "7d97f69a",
   "metadata": {},
   "source": [
    "# 拼接主体架构\n",
    "### 提取SIFT特征\n",
    "### 根据SIFT计算单应矩阵\n",
    "### 根据单应矩阵进行透视变换"
   ]
  },
  {
   "cell_type": "code",
   "execution_count": 11,
   "id": "7a935cdb",
   "metadata": {},
   "outputs": [],
   "source": [
    "def stitch_multi_pictures(img_list):\n",
    "    image1 = cv2.imread(img_list[0])\n",
    "    for i in range(1, len(img_list)):\n",
    "        print(\"==拼接前\" + str(i) + \"张图片==\")\n",
    "        image2 = cv2.imread(img_list[i])\n",
    "\n",
    "        # 获取特征\n",
    "        kp1, kp2 = obtain_SIFT_key_points(img1=image1, img2=image2)\n",
    "\n",
    "        # 计算单应矩阵\n",
    "        homo_matrix = obtain_homo_matrix(kp1, kp2)\n",
    "        if homo_matrix is None:\n",
    "            print(\"==拼接失败==\")\n",
    "            break\n",
    "\n",
    "        # 对图片透视变换\n",
    "        image1 = transform_operation(image1, image2, homo_matrix)\n",
    "\n",
    "    # 得到最终结果并展示\n",
    "    print(\"==拼接成功==\")\n",
    "    name = img_list[0].split('/')[-1].split('.')[0] +'_panorama.jpg'\n",
    "    \n",
    "    cv2.imwrite('./result/'+ name, image1)"
   ]
  },
  {
   "cell_type": "markdown",
   "id": "40f47ad7",
   "metadata": {},
   "source": [
    "# 调用主函数开始拼接"
   ]
  },
  {
   "cell_type": "code",
   "execution_count": 7,
   "id": "dbaa392d",
   "metadata": {},
   "outputs": [
    {
     "name": "stdout",
     "output_type": "stream",
     "text": [
      "==拼接前1张图片==\n",
      "==拼接前2张图片==\n",
      "==拼接成功==\n"
     ]
    }
   ],
   "source": [
    "img_list = [\n",
    "    'images/mountain1.jpg',\n",
    "    'images/mountain2.jpg',\n",
    "    'images/mountain3.jpg'\n",
    "]\n",
    "stitch_multi_pictures(img_list)"
   ]
  },
  {
   "cell_type": "code",
   "execution_count": 14,
   "id": "a623d086",
   "metadata": {},
   "outputs": [
    {
     "name": "stdout",
     "output_type": "stream",
     "text": [
      "==拼接前1张图片==\n",
      "==拼接成功==\n"
     ]
    }
   ],
   "source": [
    "img_list = [\n",
    "    'images/dingxin1.jpg',\n",
    "    'images/dingxin2.jpg'\n",
    "]\n",
    "stitch_multi_pictures(img_list)"
   ]
  },
  {
   "cell_type": "code",
   "execution_count": null,
   "id": "ca24eab4",
   "metadata": {},
   "outputs": [],
   "source": []
  }
 ],
 "metadata": {
  "kernelspec": {
   "display_name": "Python 3 (ipykernel)",
   "language": "python",
   "name": "python3"
  },
  "language_info": {
   "codemirror_mode": {
    "name": "ipython",
    "version": 3
   },
   "file_extension": ".py",
   "mimetype": "text/x-python",
   "name": "python",
   "nbconvert_exporter": "python",
   "pygments_lexer": "ipython3",
   "version": "3.10.9"
  }
 },
 "nbformat": 4,
 "nbformat_minor": 5
}
