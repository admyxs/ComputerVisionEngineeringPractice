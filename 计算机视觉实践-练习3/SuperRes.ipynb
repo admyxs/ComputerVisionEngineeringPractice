{
 "cells": [
  {
   "cell_type": "code",
   "execution_count": 40,
   "id": "d08388ae-6d28-4852-9c25-d3b696e84620",
   "metadata": {},
   "outputs": [],
   "source": [
    "import torch\n",
    "from torch import nn\n",
    "import h5py\n",
    "import numpy as np\n",
    "from torch.utils.data import Dataset\n",
    "import argparse\n",
    "import os\n",
    "import cv2\n",
    "import copy\n",
    " \n",
    "from torch import Tensor\n",
    "import torch.optim as optim\n",
    " \n",
    "import torch.backends.cudnn as cudnn\n",
    "from torch.utils.data.dataloader import DataLoader\n",
    "from tqdm import tqdm\n",
    "\n",
    "import PIL.Image as pil_image\n",
    "from skimage.metrics import structural_similarity as compare_ssim"
   ]
  },
  {
   "cell_type": "markdown",
   "id": "a2b1363d-98e8-44ff-8e9e-1b19519ebe2b",
   "metadata": {},
   "source": [
    "### 搭建SRCNN 3层卷积模型，Conve2d（输入层数，输出层数，卷积核大小，步长，填充层）"
   ]
  },
  {
   "cell_type": "code",
   "execution_count": 16,
   "id": "66875bd3-f97d-4858-bf13-296c2e0e01a5",
   "metadata": {},
   "outputs": [],
   "source": [
    "class SRCNN(nn.Module):\n",
    "    def __init__(self, num_channels=1):\n",
    "        super(SRCNN, self).__init__()\n",
    "        self.conv1 = nn.Conv2d(num_channels, 64, kernel_size=9, padding=9 // 2)\n",
    "        self.conv2 = nn.Conv2d(64, 32, kernel_size=5, padding=5 // 2)\n",
    "        self.conv3 = nn.Conv2d(32, num_channels, kernel_size=5, padding=5 // 2)\n",
    "        self.relu = nn.ReLU(inplace=True)\n",
    " \n",
    "    def forward(self, x):\n",
    "        x = self.relu(self.conv1(x))\n",
    "        x = self.relu(self.conv2(x))\n",
    "        x = self.conv3(x)\n",
    "        return x"
   ]
  },
  {
   "cell_type": "markdown",
   "id": "3fcb708a-91e9-44bb-9317-a1f7d9d9bab9",
   "metadata": {},
   "source": [
    "### 分别构建Train和Val的Dataloader"
   ]
  },
  {
   "cell_type": "code",
   "execution_count": 38,
   "id": "207baa2e-ac5c-4414-9542-f1755c6c6f50",
   "metadata": {},
   "outputs": [],
   "source": [
    "class TrainDataset(Dataset):\n",
    "    def __init__(self, h5_file):\n",
    "        super(TrainDataset, self).__init__()\n",
    "        self.h5_file = h5_file\n",
    " \n",
    "    def __getitem__(self, idx): #通过np.expand_dims方法得到组合的新数据\n",
    "        with h5py.File(self.h5_file, 'r') as f:\n",
    "            return np.expand_dims(f['lr'][idx] / 255., 0), np.expand_dims(f['hr'][idx] / 255., 0)\n",
    " \n",
    "    def __len__(self):   #得到数据大小\n",
    "        with h5py.File(self.h5_file, 'r') as f:\n",
    "            return len(f['lr'])\n",
    " \n",
    "# 与TrainDataset类似\n",
    "class EvalDataset(Dataset):\n",
    "    def __init__(self, h5_file):\n",
    "        super(EvalDataset, self).__init__()\n",
    "        self.h5_file = h5_file\n",
    " \n",
    "    def __getitem__(self, idx):\n",
    "        with h5py.File(self.h5_file, 'r') as f:\n",
    "            return np.expand_dims(f['lr'][str(idx)][:, :] / 255., 0), np.expand_dims(f['hr'][str(idx)][:, :] / 255., 0)\n",
    " \n",
    "    def __len__(self):\n",
    "        with h5py.File(self.h5_file, 'r') as f:\n",
    "            return len(f['lr'])"
   ]
  },
  {
   "cell_type": "markdown",
   "id": "c3fdd03e-e504-401d-8421-f332bb52d54c",
   "metadata": {},
   "source": [
    "### 定义一些工具函数"
   ]
  },
  {
   "cell_type": "code",
   "execution_count": 18,
   "id": "88f0b495-7858-46ea-8cc9-67176f921dc3",
   "metadata": {},
   "outputs": [],
   "source": [
    "\"\"\"\n",
    "       只操作y通道\n",
    "       因为我们感兴趣的不是颜色变化(存储在 CbCr 通道中的信息)而只是其亮度(Y 通道);\n",
    "       根本原因在于相较于色差，人类视觉对亮度变化更为敏感。\n",
    "\"\"\"\n",
    "def convert_rgb_to_y(img):\n",
    "    if type(img) == np.ndarray:\n",
    "        return 16. + (64.738 * img[:, :, 0] + 129.057 * img[:, :, 1] + 25.064 * img[:, :, 2]) / 256.\n",
    "    elif type(img) == torch.Tensor:\n",
    "        if len(img.shape) == 4:\n",
    "            img = img.squeeze(0)\n",
    "        return 16. + (64.738 * img[0, :, :] + 129.057 * img[1, :, :] + 25.064 * img[2, :, :]) / 256.\n",
    "    else:\n",
    "        raise Exception('Unknown Type', type(img))\n",
    " \n",
    "\"\"\"\n",
    "        RGB转YCBCR\n",
    "        Y=0.257*R+0.564*G+0.098*B+16\n",
    "        Cb=-0.148*R-0.291*G+0.439*B+128\n",
    "        Cr=0.439*R-0.368*G-0.071*B+128\n",
    "\"\"\"\n",
    "def convert_rgb_to_ycbcr(img):\n",
    "    if type(img) == np.ndarray:\n",
    "        y = 16. + (64.738 * img[:, :, 0] + 129.057 * img[:, :, 1] + 25.064 * img[:, :, 2]) / 256.\n",
    "        cb = 128. + (-37.945 * img[:, :, 0] - 74.494 * img[:, :, 1] + 112.439 * img[:, :, 2]) / 256.\n",
    "        cr = 128. + (112.439 * img[:, :, 0] - 94.154 * img[:, :, 1] - 18.285 * img[:, :, 2]) / 256.\n",
    "        return np.array([y, cb, cr]).transpose([1, 2, 0])\n",
    "    elif type(img) == torch.Tensor:\n",
    "        if len(img.shape) == 4:\n",
    "            img = img.squeeze(0)\n",
    "        y = 16. + (64.738 * img[0, :, :] + 129.057 * img[1, :, :] + 25.064 * img[2, :, :]) / 256.\n",
    "        cb = 128. + (-37.945 * img[0, :, :] - 74.494 * img[1, :, :] + 112.439 * img[2, :, :]) / 256.\n",
    "        cr = 128. + (112.439 * img[0, :, :] - 94.154 * img[1, :, :] - 18.285 * img[2, :, :]) / 256.\n",
    "        return torch.cat([y, cb, cr], 0).permute(1, 2, 0)\n",
    "    else:\n",
    "        raise Exception('Unknown Type', type(img))\n",
    " \n",
    "\"\"\"\n",
    "        YCBCR转RGB\n",
    "        R=1.164*(Y-16)+1.596*(Cr-128)\n",
    "        G=1.164*(Y-16)-0.392*(Cb-128)-0.813*(Cr-128)\n",
    "        B=1.164*(Y-16)+2.017*(Cb-128)\n",
    "\"\"\"\n",
    "def convert_ycbcr_to_rgb(img):\n",
    "    if type(img) == np.ndarray:\n",
    "        r = 298.082 * img[:, :, 0] / 256. + 408.583 * img[:, :, 2] / 256. - 222.921\n",
    "        g = 298.082 * img[:, :, 0] / 256. - 100.291 * img[:, :, 1] / 256. - 208.120 * img[:, :, 2] / 256. + 135.576\n",
    "        b = 298.082 * img[:, :, 0] / 256. + 516.412 * img[:, :, 1] / 256. - 276.836\n",
    "        return np.array([r, g, b]).transpose([1, 2, 0])\n",
    "    elif type(img) == torch.Tensor:\n",
    "        if len(img.shape) == 4:\n",
    "            img = img.squeeze(0)\n",
    "        r = 298.082 * img[0, :, :] / 256. + 408.583 * img[2, :, :] / 256. - 222.921\n",
    "        g = 298.082 * img[0, :, :] / 256. - 100.291 * img[1, :, :] / 256. - 208.120 * img[2, :, :] / 256. + 135.576\n",
    "        b = 298.082 * img[0, :, :] / 256. + 516.412 * img[1, :, :] / 256. - 276.836\n",
    "        return torch.cat([r, g, b], 0).permute(1, 2, 0)\n",
    "    else:\n",
    "        raise Exception('Unknown Type', type(img))\n",
    " \n",
    "# PSNR 计算\n",
    "def calc_psnr(img1, img2):\n",
    "    return 10. * torch.log10(1. / torch.mean((img1 - img2) ** 2))\n",
    " \n",
    "# 计算 平均数，求和，长度\n",
    "class AverageMeter(object):\n",
    "    def __init__(self):\n",
    "        self.reset()\n",
    " \n",
    "    def reset(self):\n",
    "        self.val = 0\n",
    "        self.avg = 0\n",
    "        self.sum = 0\n",
    "        self.count = 0\n",
    " \n",
    "    def update(self, val, n=1):\n",
    "        self.val = val\n",
    "        self.sum += val * n\n",
    "        self.count += n\n",
    "        self.avg = self.sum / self.count"
   ]
  },
  {
   "cell_type": "markdown",
   "id": "e5d7755b-f1ad-4b0a-ba1b-73079c95b8cd",
   "metadata": {},
   "source": [
    "### 开始训练"
   ]
  },
  {
   "cell_type": "code",
   "execution_count": 23,
   "id": "8c38ced1-0117-4dce-867f-6ddf61c000b3",
   "metadata": {},
   "outputs": [
    {
     "name": "stdout",
     "output_type": "stream",
     "text": [
      "./x2\n"
     ]
    },
    {
     "name": "stderr",
     "output_type": "stream",
     "text": [
      "epoch:1/400: 100%|███████████████████████████████████████████████| 21904/21904 [01:19<00:00, 276.13it/s, loss=0.003701]\n"
     ]
    },
    {
     "name": "stdout",
     "output_type": "stream",
     "text": [
      "eval psnr: 34.66\n",
      "best epoch: 1, psnr: 34.66\n"
     ]
    },
    {
     "name": "stderr",
     "output_type": "stream",
     "text": [
      "epoch:2/400: 100%|███████████████████████████████████████████████| 21904/21904 [01:20<00:00, 271.10it/s, loss=0.000784]\n"
     ]
    },
    {
     "name": "stdout",
     "output_type": "stream",
     "text": [
      "eval psnr: 34.85\n",
      "best epoch: 2, psnr: 34.85\n"
     ]
    },
    {
     "name": "stderr",
     "output_type": "stream",
     "text": [
      "epoch:3/400: 100%|███████████████████████████████████████████████| 21904/21904 [01:20<00:00, 271.79it/s, loss=0.000730]\n"
     ]
    },
    {
     "name": "stdout",
     "output_type": "stream",
     "text": [
      "eval psnr: 35.17\n",
      "best epoch: 3, psnr: 35.17\n"
     ]
    },
    {
     "name": "stderr",
     "output_type": "stream",
     "text": [
      "epoch:4/400: 100%|███████████████████████████████████████████████| 21904/21904 [01:19<00:00, 275.93it/s, loss=0.000708]\n"
     ]
    },
    {
     "name": "stdout",
     "output_type": "stream",
     "text": [
      "eval psnr: 35.30\n",
      "best epoch: 4, psnr: 35.30\n"
     ]
    },
    {
     "name": "stderr",
     "output_type": "stream",
     "text": [
      "epoch:5/400:  78%|████████████████████████████████████▍          | 17008/21904 [01:01<00:17, 274.45it/s, loss=0.000695]\n"
     ]
    },
    {
     "ename": "KeyboardInterrupt",
     "evalue": "",
     "output_type": "error",
     "traceback": [
      "\u001b[1;31m---------------------------------------------------------------------------\u001b[0m",
      "\u001b[1;31mKeyboardInterrupt\u001b[0m                         Traceback (most recent call last)",
      "Cell \u001b[1;32mIn[23], line 139\u001b[0m\n\u001b[0;32m    136\u001b[0m optimizer\u001b[38;5;241m.\u001b[39mzero_grad()\n\u001b[0;32m    138\u001b[0m \u001b[38;5;66;03m# 反向传播\u001b[39;00m\n\u001b[1;32m--> 139\u001b[0m \u001b[43mloss\u001b[49m\u001b[38;5;241;43m.\u001b[39;49m\u001b[43mbackward\u001b[49m\u001b[43m(\u001b[49m\u001b[43m)\u001b[49m\n\u001b[0;32m    141\u001b[0m \u001b[38;5;66;03m# 更新参数\u001b[39;00m\n\u001b[0;32m    142\u001b[0m optimizer\u001b[38;5;241m.\u001b[39mstep()\n",
      "File \u001b[1;32m~\\.conda\\envs\\cvep\\lib\\site-packages\\torch\\_tensor.py:487\u001b[0m, in \u001b[0;36mTensor.backward\u001b[1;34m(self, gradient, retain_graph, create_graph, inputs)\u001b[0m\n\u001b[0;32m    477\u001b[0m \u001b[38;5;28;01mif\u001b[39;00m has_torch_function_unary(\u001b[38;5;28mself\u001b[39m):\n\u001b[0;32m    478\u001b[0m     \u001b[38;5;28;01mreturn\u001b[39;00m handle_torch_function(\n\u001b[0;32m    479\u001b[0m         Tensor\u001b[38;5;241m.\u001b[39mbackward,\n\u001b[0;32m    480\u001b[0m         (\u001b[38;5;28mself\u001b[39m,),\n\u001b[1;32m   (...)\u001b[0m\n\u001b[0;32m    485\u001b[0m         inputs\u001b[38;5;241m=\u001b[39minputs,\n\u001b[0;32m    486\u001b[0m     )\n\u001b[1;32m--> 487\u001b[0m \u001b[43mtorch\u001b[49m\u001b[38;5;241;43m.\u001b[39;49m\u001b[43mautograd\u001b[49m\u001b[38;5;241;43m.\u001b[39;49m\u001b[43mbackward\u001b[49m\u001b[43m(\u001b[49m\n\u001b[0;32m    488\u001b[0m \u001b[43m    \u001b[49m\u001b[38;5;28;43mself\u001b[39;49m\u001b[43m,\u001b[49m\u001b[43m \u001b[49m\u001b[43mgradient\u001b[49m\u001b[43m,\u001b[49m\u001b[43m \u001b[49m\u001b[43mretain_graph\u001b[49m\u001b[43m,\u001b[49m\u001b[43m \u001b[49m\u001b[43mcreate_graph\u001b[49m\u001b[43m,\u001b[49m\u001b[43m \u001b[49m\u001b[43minputs\u001b[49m\u001b[38;5;241;43m=\u001b[39;49m\u001b[43minputs\u001b[49m\n\u001b[0;32m    489\u001b[0m \u001b[43m\u001b[49m\u001b[43m)\u001b[49m\n",
      "File \u001b[1;32m~\\.conda\\envs\\cvep\\lib\\site-packages\\torch\\autograd\\__init__.py:197\u001b[0m, in \u001b[0;36mbackward\u001b[1;34m(tensors, grad_tensors, retain_graph, create_graph, grad_variables, inputs)\u001b[0m\n\u001b[0;32m    192\u001b[0m     retain_graph \u001b[38;5;241m=\u001b[39m create_graph\n\u001b[0;32m    194\u001b[0m \u001b[38;5;66;03m# The reason we repeat same the comment below is that\u001b[39;00m\n\u001b[0;32m    195\u001b[0m \u001b[38;5;66;03m# some Python versions print out the first line of a multi-line function\u001b[39;00m\n\u001b[0;32m    196\u001b[0m \u001b[38;5;66;03m# calls in the traceback and some print out the last line\u001b[39;00m\n\u001b[1;32m--> 197\u001b[0m \u001b[43mVariable\u001b[49m\u001b[38;5;241;43m.\u001b[39;49m\u001b[43m_execution_engine\u001b[49m\u001b[38;5;241;43m.\u001b[39;49m\u001b[43mrun_backward\u001b[49m\u001b[43m(\u001b[49m\u001b[43m  \u001b[49m\u001b[38;5;66;43;03m# Calls into the C++ engine to run the backward pass\u001b[39;49;00m\n\u001b[0;32m    198\u001b[0m \u001b[43m    \u001b[49m\u001b[43mtensors\u001b[49m\u001b[43m,\u001b[49m\u001b[43m \u001b[49m\u001b[43mgrad_tensors_\u001b[49m\u001b[43m,\u001b[49m\u001b[43m \u001b[49m\u001b[43mretain_graph\u001b[49m\u001b[43m,\u001b[49m\u001b[43m \u001b[49m\u001b[43mcreate_graph\u001b[49m\u001b[43m,\u001b[49m\u001b[43m \u001b[49m\u001b[43minputs\u001b[49m\u001b[43m,\u001b[49m\n\u001b[0;32m    199\u001b[0m \u001b[43m    \u001b[49m\u001b[43mallow_unreachable\u001b[49m\u001b[38;5;241;43m=\u001b[39;49m\u001b[38;5;28;43;01mTrue\u001b[39;49;00m\u001b[43m,\u001b[49m\u001b[43m \u001b[49m\u001b[43maccumulate_grad\u001b[49m\u001b[38;5;241;43m=\u001b[39;49m\u001b[38;5;28;43;01mTrue\u001b[39;49;00m\u001b[43m)\u001b[49m\n",
      "\u001b[1;31mKeyboardInterrupt\u001b[0m: "
     ]
    }
   ],
   "source": [
    "# 初始参数设定\n",
    "train_file='./dataset/91-image_x2.h5'\n",
    "eval_file='./dataset/Set5_x2.h5'\n",
    "output_dir='./'\n",
    "scale=2\n",
    "lr=1e-4\n",
    "batch_size=16\n",
    "num_workers=0\n",
    "num_epochs=400\n",
    "seed=123\n",
    "\n",
    "# 输出放入固定文件夹里\n",
    "outputs_dir = os.path.join(output_dir, 'x{}'.format(scale))\n",
    "print(outputs_dir)\n",
    "# 没有该文件夹就新建一个文件夹\n",
    "if not os.path.exists(output_dir):\n",
    "    print(outputs_dir)\n",
    "    print()\n",
    "    os.makedirs(output_dir)\n",
    "\n",
    "cudnn.benchmark = True\n",
    "device = torch.device('cuda:0' if torch.cuda.is_available() else 'cpu')\n",
    "torch.manual_seed(seed)\n",
    "\n",
    "model = SRCNN().to(device)\n",
    "\n",
    "# 恢复训练，从之前结束的那个地方开始\n",
    "# model.load_state_dict(torch.load('outputs/x3/epoch_173.pth'))\n",
    "\n",
    "# 设置损失函数为MSE\n",
    "criterion = nn.MSELoss()\n",
    "\n",
    "# 优化函数Adam，lr代表学习率，\n",
    "optimizer = optim.Adam([\n",
    "    {'params': model.conv1.parameters()},\n",
    "    {'params': model.conv2.parameters()},\n",
    "    {'params': model.conv3.parameters(), 'lr': lr * 0.1}\n",
    "], lr=lr)\n",
    "\n",
    "# 预处理训练集\n",
    "train_dataset = TrainDataset(train_file)\n",
    "train_dataloader = DataLoader(\n",
    "    dataset=train_dataset,\n",
    "    batch_size=batch_size,\n",
    "    shuffle=True,\n",
    "    num_workers=num_workers,\n",
    "    pin_memory=True,\n",
    "    drop_last=True)\n",
    "# 预处理验证集\n",
    "eval_dataset = EvalDataset(eval_file)\n",
    "eval_dataloader = DataLoader(dataset=eval_dataset, batch_size=1)\n",
    "\n",
    "# 拷贝权重\n",
    "best_weights = copy.deepcopy(model.state_dict())\n",
    "best_epoch = 0\n",
    "best_psnr = 0.0\n",
    "\n",
    "lossLog = []\n",
    "psnrLog = []\n",
    "\n",
    "for epoch in range(1, num_epochs + 1):\n",
    "    # 模型训练入口\n",
    "    model.train()\n",
    "\n",
    "    # 变量更新，计算epoch平均损失\n",
    "    epoch_losses = AverageMeter()\n",
    "\n",
    "    # 进度条\n",
    "    with tqdm(total=(len(train_dataset) - len(train_dataset) % batch_size)) as t:\n",
    "        t.set_description('epoch:{}/{}'.format(epoch, num_epochs))\n",
    "\n",
    "        # 每个batch计算一次\n",
    "        for data in train_dataloader:\n",
    "            inputs, labels = data\n",
    "\n",
    "            inputs = inputs.to(device)\n",
    "            labels = labels.to(device)\n",
    "            # 送入模型训练\n",
    "            preds = model(inputs)\n",
    "            # 获得损失\n",
    "            loss = criterion(preds, labels)\n",
    "\n",
    "            # 显示损失值与长度\n",
    "            epoch_losses.update(loss.item(), len(inputs))\n",
    "\n",
    "            # 梯度清零\n",
    "            optimizer.zero_grad()\n",
    "\n",
    "            # 反向传播\n",
    "            loss.backward()\n",
    "\n",
    "            # 更新参数\n",
    "            optimizer.step()\n",
    "            t.set_postfix(loss='{:.6f}'.format(epoch_losses.avg))\n",
    "            t.update(len(inputs))\n",
    "    # 记录lossLog 方面画图\n",
    "    lossLog.append(np.array(epoch_losses.avg))\n",
    "    np.savetxt(\"lossLog.txt\", lossLog)\n",
    "    # 保存模型\n",
    "    torch.save(model.state_dict(), os.path.join(outputs_dir, 'epoch_{}.pth'.format(epoch)))\n",
    "\n",
    "    model.eval()\n",
    "    epoch_psnr = AverageMeter()\n",
    "\n",
    "    for data in eval_dataloader:\n",
    "        inputs, labels = data\n",
    "\n",
    "        inputs = inputs.to(device)\n",
    "        labels = labels.to(device)\n",
    "        with torch.no_grad():\n",
    "            preds = model(inputs).clamp(0.0, 1.0)\n",
    "        epoch_psnr.update(calc_psnr(preds, labels), len(inputs))\n",
    "    print('eval psnr: {:.2f}'.format(epoch_psnr.avg))\n",
    "\n",
    "    # 记录psnr\n",
    "    psnrLog.append(Tensor.cpu(epoch_psnr.avg))\n",
    "    np.savetxt('psnrLog.txt', psnrLog)\n",
    "    # 找到更好的权重参数，更新\n",
    "    if epoch_psnr.avg > best_psnr:\n",
    "        best_epoch = epoch\n",
    "        best_psnr = epoch_psnr.avg\n",
    "        best_weights = copy.deepcopy(model.state_dict())\n",
    "\n",
    "    print('best epoch: {}, psnr: {:.2f}'.format(best_epoch, best_psnr))\n",
    "\n",
    "    torch.save(best_weights, os.path.join(outputs_dir, 'best.pth'))\n",
    "\n",
    "print('best epoch: {}, psnr: {:.2f}'.format(best_epoch, best_psnr))\n",
    "\n",
    "torch.save(best_weights, os.path.join(outputs_dir, 'best.pth'))"
   ]
  },
  {
   "cell_type": "markdown",
   "id": "e6f571bc-9a2c-4978-bf12-fd2c161a5d61",
   "metadata": {},
   "source": [
    "### 开始测试"
   ]
  },
  {
   "cell_type": "code",
   "execution_count": 46,
   "id": "7c8721e1-1d5c-4a99-859f-4f2f031d3139",
   "metadata": {},
   "outputs": [
    {
     "name": "stdout",
     "output_type": "stream",
     "text": [
      "PSNR: 36.92\n",
      "SSIM: 0.97\n"
     ]
    }
   ],
   "source": [
    "# 设置权重参数目录，处理图像目录，放大倍数\n",
    "weights_file=\"best.pth\"\n",
    "image_file=\"imgs/2.jpg\"\n",
    "scale=2\n",
    "\n",
    "cudnn.benchmark = True\n",
    "device = torch.device('cuda:0' if torch.cuda.is_available() else 'cpu')\n",
    "\n",
    "model = SRCNN().to(device)\n",
    "\n",
    "state_dict = model.state_dict()  # 通过 model.state_dict()得到模型有哪些 parameters and persistent buffers\n",
    "for n, p in torch.load(weights_file, map_location=lambda storage, loc: storage).items():\n",
    "    if n in state_dict.keys():\n",
    "        state_dict[n].copy_(p)\n",
    "    else:\n",
    "        raise KeyError(n)\n",
    "\n",
    "model.eval()\n",
    "\n",
    "image = pil_image.open(image_file).convert('RGB')\n",
    "\n",
    "# 经过一个插值操作，首先将原始图片重设尺寸，使之可以被放大倍数scale整除\n",
    "# 得到低分辨率图像Lr，即三次插值后的图像，同时保存输出\n",
    "image_width = (image.width // scale) * scale\n",
    "image_height = (image.height // scale) * scale\n",
    "image = image.resize((image_width, image_height), resample=pil_image.BICUBIC)\n",
    "image = image.resize((image.width // scale, image.height // scale), resample=pil_image.BICUBIC)\n",
    "image = image.resize((image.width * scale, image.height * scale), resample=pil_image.BICUBIC)\n",
    "image.save(image_file.replace('.', '_bicubic_x{}.'.format(scale)))\n",
    "# 将图像转化为数组类型，同时图像转为ycbcr类型\n",
    "image = np.array(image).astype(np.float32)\n",
    "ycbcr = convert_rgb_to_ycbcr(image)\n",
    "# 得到 ycbcr中的 y 通道\n",
    "y = ycbcr[..., 0]\n",
    "y /= 255.  # 归一化处理\n",
    "y = torch.from_numpy(y).to(device)\n",
    "y = y.unsqueeze(0).unsqueeze(0)\n",
    "with torch.no_grad():\n",
    "    preds = model(y).clamp(0.0, 1.0)\n",
    "\n",
    "psnr = calc_psnr(y, preds)   # 计算y通道的psnr值\n",
    "print('PSNR: {:.2f}'.format(psnr))  # 格式化输出PSNR值\n",
    "\n",
    "preds = preds.mul(255.0).cpu().numpy().squeeze(0).squeeze(0)\n",
    "\n",
    "# 将img的数据格式由（channels,imagesize,imagesize）转化为（imagesize,imagesize,channels）,进行格式的转换后方可进行显示。\n",
    "output = np.array([preds, ycbcr[..., 1], ycbcr[..., 2]]).transpose([1, 2, 0])\n",
    "\n",
    "output = np.clip(convert_ycbcr_to_rgb(output), 0.0, 255.0).astype(np.uint8)\n",
    "output = pil_image.fromarray(output) \n",
    "output.save(image_file.replace('.', '_srcnn_x{}.'.format(scale))) \n",
    "\n",
    "imgPathList=[]\n",
    "imgPathList.append(image_file.replace('.', '_bicubic_x{}.'.format(scale)))\n",
    "imgPathList.append(image_file.replace('.', '_srcnn_x{}.'.format(scale)))\n",
    "\n",
    "\n",
    "imgList=[]\n",
    "for imgPath in imgPathList:\n",
    "    img = np.fromfile(imgPath, dtype=np.uint8)\n",
    "    img = cv2.imdecode(img, cv2.IMREAD_GRAYSCALE)\n",
    "    imgList.append(img)\n",
    "\n",
    "ssim = compare_ssim(imgList[0], imgList[1], multichannel=True)\n",
    "print('SSIM: {:.2f}'.format(ssim))  # ssim"
   ]
  },
  {
   "cell_type": "code",
   "execution_count": null,
   "id": "725354dd-b042-48a3-b7d9-241ba5e92f8b",
   "metadata": {},
   "outputs": [],
   "source": []
  }
 ],
 "metadata": {
  "kernelspec": {
   "display_name": "Python 3 (ipykernel)",
   "language": "python",
   "name": "python3"
  },
  "language_info": {
   "codemirror_mode": {
    "name": "ipython",
    "version": 3
   },
   "file_extension": ".py",
   "mimetype": "text/x-python",
   "name": "python",
   "nbconvert_exporter": "python",
   "pygments_lexer": "ipython3",
   "version": "3.8.19"
  }
 },
 "nbformat": 4,
 "nbformat_minor": 5
}
