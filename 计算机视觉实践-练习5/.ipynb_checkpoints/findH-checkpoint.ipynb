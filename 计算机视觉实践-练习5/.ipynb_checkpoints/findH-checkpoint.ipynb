{
 "cells": [
  {
   "cell_type": "code",
   "execution_count": 2,
   "id": "e5a86bfc",
   "metadata": {},
   "outputs": [
    {
     "name": "stdout",
     "output_type": "stream",
     "text": [
      "802\n"
     ]
    }
   ],
   "source": [
    "import cv2\n",
    "import numpy as np\n",
    "\n",
    "# 读取两个图像\n",
    "img1 = cv2.imread('image1.jpg')\n",
    "img2 = cv2.imread('image2.jpg')\n",
    "\n",
    "# 创建SURF算法对象并提取图像的特征点和特征描述\n",
    "surf = cv2.xfeatures2d.SURF_create()\n",
    "keypoints1, descriptors1 = surf.detectAndCompute(img1, None)\n",
    "keypoints2, descriptors2 = surf.detectAndCompute(img2, None)\n",
    "\n",
    "# 创建暴力匹配器对象，并进行特征描述的匹配\n",
    "matcher = cv2.BFMatcher()\n",
    "matches = matcher.knnMatch(descriptors1, descriptors2, k=2)\n",
    "\n",
    "# 过滤匹配结果，只保留高质量的匹配\n",
    "good_matches = []\n",
    "for m, n in matches:\n",
    "    if m.distance < 0.7 * n.distance:\n",
    "        good_matches.append(m)\n",
    "print(len(good_matches))"
   ]
  },
  {
   "cell_type": "code",
   "execution_count": 5,
   "id": "1b1ebec6",
   "metadata": {},
   "outputs": [
    {
     "name": "stdout",
     "output_type": "stream",
     "text": [
      "[[ 3.57102191e-01  5.33287499e-02  1.81507620e+02]\n",
      " [-2.41177441e-01  6.84952795e-01  4.61794936e+02]\n",
      " [-1.29000656e-04  6.65894200e-06  1.00000000e+00]]\n",
      "[[ 3.54787618e-01  4.86857109e-02  1.96386688e+02]\n",
      " [-2.21566588e-01  6.82028353e-01  4.51377838e+02]\n",
      " [-1.18795608e-04  3.29094792e-06  1.00000000e+00]]\n"
     ]
    }
   ],
   "source": [
    "# 计算单应性矩阵\n",
    "src_pts = np.float32([keypoints1[m.queryIdx].pt for m in good_matches]).reshape(-1, 1, 2)\n",
    "dst_pts = np.float32([keypoints2[m.trainIdx].pt for m in good_matches]).reshape(-1, 1, 2)\n",
    "homography, mask = cv2.findHomography(src_pts, dst_pts, cv2.RANSAC,5.0)\n",
    "homography1,mask1 = cv2.findHomography(src_pts, dst_pts, cv2.RHO,5.0)\n",
    "matchesMask = mask.ravel().tolist()\n",
    "matchesMask1 = mask1.ravel().tolist()\n",
    "print(homography)\n",
    "print(homography1)\n",
    "# 计算图像的四个角点，用于进行透视变换\n",
    "H, W, D = img1.shape\n",
    "pts = np.float32([[0,0], [0,H-1], [W-1,H-1], [W-1,0]]).reshape(-1,1,2)\n",
    "dst = cv2.perspectiveTransform(pts, homography)\n",
    "dst1 = cv2.perspectiveTransform(pts, homography1)\n",
    "# 在第二个图像上绘制第一个图像（经过单应性变换）\n",
    "img2 = cv2.polylines(img2, [np.int32(dst)], True, 255, 3, cv2.LINE_AA)\n",
    "\n",
    "# 绘制匹配的关键点和映射后的图像\n",
    "draw_params = dict(matchColor = (0,255,0),\n",
    "                   singlePointColor = None,\n",
    "                   matchesMask = matchesMask,\n",
    "                   flags = 2)\n",
    "\n",
    "draw_params1 = dict(matchColor = (0,255,0),\n",
    "                   singlePointColor = None,\n",
    "                   matchesMask = matchesMask1,\n",
    "                   flags = 2)\n",
    "img3 = cv2.drawMatches(img1, keypoints1, img2, keypoints2, good_matches, None, **draw_params)\n",
    "img4 = cv2.drawMatches(img1, keypoints1, img2, keypoints2, good_matches, None, **draw_params1)"
   ]
  },
  {
   "cell_type": "code",
   "execution_count": 6,
   "id": "7b9d427d",
   "metadata": {},
   "outputs": [
    {
     "data": {
      "text/plain": [
       "True"
      ]
     },
     "execution_count": 6,
     "metadata": {},
     "output_type": "execute_result"
    }
   ],
   "source": [
    "cv2.imwrite('result.jpg', im3)\n",
    "cv2.imwrite('result1.jpg', im4)"
   ]
  },
  {
   "cell_type": "code",
   "execution_count": null,
   "id": "c82ded75",
   "metadata": {},
   "outputs": [],
   "source": []
  }
 ],
 "metadata": {
  "kernelspec": {
   "display_name": "Python [conda env:op]",
   "language": "python",
   "name": "conda-env-op-py"
  },
  "language_info": {
   "codemirror_mode": {
    "name": "ipython",
    "version": 3
   },
   "file_extension": ".py",
   "mimetype": "text/x-python",
   "name": "python",
   "nbconvert_exporter": "python",
   "pygments_lexer": "ipython3",
   "version": "3.6.13"
  }
 },
 "nbformat": 4,
 "nbformat_minor": 5
}
